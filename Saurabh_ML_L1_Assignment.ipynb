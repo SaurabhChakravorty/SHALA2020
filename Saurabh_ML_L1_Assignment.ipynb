{
  "nbformat": 4,
  "nbformat_minor": 0,
  "metadata": {
    "colab": {
      "name": "Saurabh_ML_L1_Assignment.ipynb",
      "provenance": [],
      "collapsed_sections": [],
      "include_colab_link": true
    },
    "kernelspec": {
      "name": "python3",
      "display_name": "Python 3"
    }
  },
  "cells": [
    {
      "cell_type": "markdown",
      "metadata": {
        "id": "view-in-github",
        "colab_type": "text"
      },
      "source": [
        "<a href=\"https://colab.research.google.com/github/SaurabhChakravorty/SHALA2020/blob/master/Saurabh_ML_L1_Assignment.ipynb\" target=\"_parent\"><img src=\"https://colab.research.google.com/assets/colab-badge.svg\" alt=\"Open In Colab\"/></a>"
      ]
    },
    {
      "cell_type": "markdown",
      "metadata": {
        "id": "_lnS8bdSWnuK",
        "colab_type": "text"
      },
      "source": [
        "# **Assignment 1** (Intro to Machine Learning)"
      ]
    },
    {
      "cell_type": "markdown",
      "metadata": {
        "id": "a0_VaZIOWzut",
        "colab_type": "text"
      },
      "source": [
        "## Note:\n",
        "\n",
        "* The dataset to be used is `attrition.csv`. This dataset reveals whether a particular employee left the company or not.  \n",
        "* In this dataset, the column named `Attrition` is the target variable and the remaining columns are features. Please note that `Attrition = 1` means the employee left the company, whereas `Attrition = 0` means the opposite of this statement. \n",
        "*  This dataset has been loaded in this assignment as shown below. In case, you are not able to load this data, please note that this data is stored separately as well in the assignment folder. "
      ]
    },
    {
      "cell_type": "markdown",
      "metadata": {
        "id": "aiByk21xYXod",
        "colab_type": "text"
      },
      "source": [
        "## Instructions:\n",
        "\n",
        "* You are required to use a classifier, which can predict the `Attrition` for the employees. \n",
        "* Before implementing any model, you will have to apply suitable encoding to the features and implement exploratory data analysis to know your data better. \n",
        "* You can either define your own custom-made classifer or select classifier(s) available in the `scikit-learn`.\n",
        "* You are supposed to implement a minimum of three classifiers (e.g.  `RandomForestClassifier`, `XGBClassifier`, `DecisionTreeClassifier`, `KNeighborsClassifier`, etc.) and evaluate which one is giving the best peformance. \n",
        "* For each of the classifier,  report the accuracy, precision, recall, roc curve, etc. "
      ]
    },
    {
      "cell_type": "code",
      "metadata": {
        "id": "7bF8pLu6VdCg",
        "colab_type": "code",
        "outputId": "c7260e92-40d8-4989-86c5-15d5bf1249ea",
        "colab": {
          "base_uri": "https://localhost:8080/",
          "height": 71
        }
      },
      "source": [
        "import pandas as pd\n",
        "import numpy as np\n",
        "import matplotlib.pyplot as plt\n",
        "import seaborn as sns"
      ],
      "execution_count": 1,
      "outputs": [
        {
          "output_type": "stream",
          "text": [
            "/usr/local/lib/python3.6/dist-packages/statsmodels/tools/_testing.py:19: FutureWarning: pandas.util.testing is deprecated. Use the functions in the public API at pandas.testing instead.\n",
            "  import pandas.util.testing as tm\n"
          ],
          "name": "stderr"
        }
      ]
    },
    {
      "cell_type": "code",
      "metadata": {
        "id": "5ABlrvQjXFgv",
        "colab_type": "code",
        "outputId": "9fe04058-9119-4551-807f-5b3dc9834ef0",
        "colab": {
          "base_uri": "https://localhost:8080/",
          "height": 309
        }
      },
      "source": [
        "data_url = \"https://raw.githubusercontent.com/shala2020/shala2020.github.io/master/Lecture_Materials/Assignments/MachineLearning/L1/attrition.csv\"\n",
        "attrition_data = pd.read_csv(data_url)\n",
        "df = attrition_data\n",
        "df = df.drop('ID',axis=1)\n",
        "df.head(5)"
      ],
      "execution_count": 2,
      "outputs": [
        {
          "output_type": "execute_result",
          "data": {
            "text/html": [
              "<div>\n",
              "<style scoped>\n",
              "    .dataframe tbody tr th:only-of-type {\n",
              "        vertical-align: middle;\n",
              "    }\n",
              "\n",
              "    .dataframe tbody tr th {\n",
              "        vertical-align: top;\n",
              "    }\n",
              "\n",
              "    .dataframe thead th {\n",
              "        text-align: right;\n",
              "    }\n",
              "</style>\n",
              "<table border=\"1\" class=\"dataframe\">\n",
              "  <thead>\n",
              "    <tr style=\"text-align: right;\">\n",
              "      <th></th>\n",
              "      <th>Age</th>\n",
              "      <th>Attrition</th>\n",
              "      <th>BusinessTravel</th>\n",
              "      <th>DailyRate</th>\n",
              "      <th>Department</th>\n",
              "      <th>DistanceFromHome</th>\n",
              "      <th>Education</th>\n",
              "      <th>EducationField</th>\n",
              "      <th>EmployeeCount</th>\n",
              "      <th>EmployeeNumber</th>\n",
              "      <th>EnvironmentSatisfaction</th>\n",
              "      <th>Gender</th>\n",
              "      <th>HourlyRate</th>\n",
              "      <th>JobInvolvement</th>\n",
              "      <th>JobLevel</th>\n",
              "      <th>JobRole</th>\n",
              "      <th>JobSatisfaction</th>\n",
              "      <th>MaritalStatus</th>\n",
              "      <th>MonthlyIncome</th>\n",
              "      <th>MonthlyRate</th>\n",
              "      <th>NumCompaniesWorked</th>\n",
              "      <th>OverTime</th>\n",
              "      <th>PercentSalaryHike</th>\n",
              "      <th>PerformanceRating</th>\n",
              "      <th>RelationshipSatisfaction</th>\n",
              "      <th>StockOptionLevel</th>\n",
              "      <th>TotalWorkingYears</th>\n",
              "      <th>TrainingTimesLastYear</th>\n",
              "      <th>WorkLifeBalance</th>\n",
              "      <th>YearsAtCompany</th>\n",
              "      <th>YearsInCurrentRole</th>\n",
              "      <th>YearsSinceLastPromotion</th>\n",
              "      <th>YearsWithCurrManager</th>\n",
              "    </tr>\n",
              "  </thead>\n",
              "  <tbody>\n",
              "    <tr>\n",
              "      <th>0</th>\n",
              "      <td>41</td>\n",
              "      <td>1</td>\n",
              "      <td>Travel_Rarely</td>\n",
              "      <td>1102</td>\n",
              "      <td>Sales</td>\n",
              "      <td>1</td>\n",
              "      <td>2</td>\n",
              "      <td>Life Sciences</td>\n",
              "      <td>1</td>\n",
              "      <td>1</td>\n",
              "      <td>2</td>\n",
              "      <td>Female</td>\n",
              "      <td>94</td>\n",
              "      <td>3</td>\n",
              "      <td>2</td>\n",
              "      <td>Sales Executive</td>\n",
              "      <td>4</td>\n",
              "      <td>Single</td>\n",
              "      <td>5993</td>\n",
              "      <td>19479</td>\n",
              "      <td>8</td>\n",
              "      <td>Yes</td>\n",
              "      <td>11</td>\n",
              "      <td>3</td>\n",
              "      <td>1</td>\n",
              "      <td>0</td>\n",
              "      <td>8</td>\n",
              "      <td>0</td>\n",
              "      <td>1</td>\n",
              "      <td>6</td>\n",
              "      <td>4</td>\n",
              "      <td>0</td>\n",
              "      <td>5</td>\n",
              "    </tr>\n",
              "    <tr>\n",
              "      <th>1</th>\n",
              "      <td>49</td>\n",
              "      <td>0</td>\n",
              "      <td>Travel_Frequently</td>\n",
              "      <td>279</td>\n",
              "      <td>Research &amp; Development</td>\n",
              "      <td>8</td>\n",
              "      <td>1</td>\n",
              "      <td>Life Sciences</td>\n",
              "      <td>1</td>\n",
              "      <td>2</td>\n",
              "      <td>3</td>\n",
              "      <td>Male</td>\n",
              "      <td>61</td>\n",
              "      <td>2</td>\n",
              "      <td>2</td>\n",
              "      <td>Research Scientist</td>\n",
              "      <td>2</td>\n",
              "      <td>Married</td>\n",
              "      <td>5130</td>\n",
              "      <td>24907</td>\n",
              "      <td>1</td>\n",
              "      <td>No</td>\n",
              "      <td>23</td>\n",
              "      <td>4</td>\n",
              "      <td>4</td>\n",
              "      <td>1</td>\n",
              "      <td>10</td>\n",
              "      <td>3</td>\n",
              "      <td>3</td>\n",
              "      <td>10</td>\n",
              "      <td>7</td>\n",
              "      <td>1</td>\n",
              "      <td>7</td>\n",
              "    </tr>\n",
              "    <tr>\n",
              "      <th>2</th>\n",
              "      <td>37</td>\n",
              "      <td>1</td>\n",
              "      <td>Travel_Rarely</td>\n",
              "      <td>1373</td>\n",
              "      <td>Research &amp; Development</td>\n",
              "      <td>2</td>\n",
              "      <td>2</td>\n",
              "      <td>Other</td>\n",
              "      <td>1</td>\n",
              "      <td>4</td>\n",
              "      <td>4</td>\n",
              "      <td>Male</td>\n",
              "      <td>92</td>\n",
              "      <td>2</td>\n",
              "      <td>1</td>\n",
              "      <td>Laboratory Technician</td>\n",
              "      <td>3</td>\n",
              "      <td>Single</td>\n",
              "      <td>2090</td>\n",
              "      <td>2396</td>\n",
              "      <td>6</td>\n",
              "      <td>Yes</td>\n",
              "      <td>15</td>\n",
              "      <td>3</td>\n",
              "      <td>2</td>\n",
              "      <td>0</td>\n",
              "      <td>7</td>\n",
              "      <td>3</td>\n",
              "      <td>3</td>\n",
              "      <td>0</td>\n",
              "      <td>0</td>\n",
              "      <td>0</td>\n",
              "      <td>0</td>\n",
              "    </tr>\n",
              "    <tr>\n",
              "      <th>3</th>\n",
              "      <td>33</td>\n",
              "      <td>0</td>\n",
              "      <td>Travel_Frequently</td>\n",
              "      <td>1392</td>\n",
              "      <td>Research &amp; Development</td>\n",
              "      <td>3</td>\n",
              "      <td>4</td>\n",
              "      <td>Life Sciences</td>\n",
              "      <td>1</td>\n",
              "      <td>5</td>\n",
              "      <td>4</td>\n",
              "      <td>Female</td>\n",
              "      <td>56</td>\n",
              "      <td>3</td>\n",
              "      <td>1</td>\n",
              "      <td>Research Scientist</td>\n",
              "      <td>3</td>\n",
              "      <td>Married</td>\n",
              "      <td>2909</td>\n",
              "      <td>23159</td>\n",
              "      <td>1</td>\n",
              "      <td>Yes</td>\n",
              "      <td>11</td>\n",
              "      <td>3</td>\n",
              "      <td>3</td>\n",
              "      <td>0</td>\n",
              "      <td>8</td>\n",
              "      <td>3</td>\n",
              "      <td>3</td>\n",
              "      <td>8</td>\n",
              "      <td>7</td>\n",
              "      <td>3</td>\n",
              "      <td>0</td>\n",
              "    </tr>\n",
              "    <tr>\n",
              "      <th>4</th>\n",
              "      <td>27</td>\n",
              "      <td>0</td>\n",
              "      <td>Travel_Rarely</td>\n",
              "      <td>591</td>\n",
              "      <td>Research &amp; Development</td>\n",
              "      <td>2</td>\n",
              "      <td>1</td>\n",
              "      <td>Medical</td>\n",
              "      <td>1</td>\n",
              "      <td>7</td>\n",
              "      <td>1</td>\n",
              "      <td>Male</td>\n",
              "      <td>40</td>\n",
              "      <td>3</td>\n",
              "      <td>1</td>\n",
              "      <td>Laboratory Technician</td>\n",
              "      <td>2</td>\n",
              "      <td>Married</td>\n",
              "      <td>3468</td>\n",
              "      <td>16632</td>\n",
              "      <td>9</td>\n",
              "      <td>No</td>\n",
              "      <td>12</td>\n",
              "      <td>3</td>\n",
              "      <td>4</td>\n",
              "      <td>1</td>\n",
              "      <td>6</td>\n",
              "      <td>3</td>\n",
              "      <td>3</td>\n",
              "      <td>2</td>\n",
              "      <td>2</td>\n",
              "      <td>2</td>\n",
              "      <td>2</td>\n",
              "    </tr>\n",
              "  </tbody>\n",
              "</table>\n",
              "</div>"
            ],
            "text/plain": [
              "   Age  Attrition  ... YearsSinceLastPromotion  YearsWithCurrManager\n",
              "0   41          1  ...                       0                     5\n",
              "1   49          0  ...                       1                     7\n",
              "2   37          1  ...                       0                     0\n",
              "3   33          0  ...                       3                     0\n",
              "4   27          0  ...                       2                     2\n",
              "\n",
              "[5 rows x 33 columns]"
            ]
          },
          "metadata": {
            "tags": []
          },
          "execution_count": 2
        }
      ]
    },
    {
      "cell_type": "code",
      "metadata": {
        "id": "ljGWG-REXpeg",
        "colab_type": "code",
        "outputId": "6378d0c9-6891-413e-ca40-b29dfc60fb7e",
        "colab": {
          "base_uri": "https://localhost:8080/",
          "height": 799
        }
      },
      "source": [
        "# Let's do some preprocessing in data\n",
        "print(\"The description of data is :\")\n",
        "print(df.isna().sum())\n",
        "print(df.describe())"
      ],
      "execution_count": 3,
      "outputs": [
        {
          "output_type": "stream",
          "text": [
            "The description of data is :\n",
            "Age                         0\n",
            "Attrition                   0\n",
            "BusinessTravel              0\n",
            "DailyRate                   0\n",
            "Department                  0\n",
            "DistanceFromHome            0\n",
            "Education                   0\n",
            "EducationField              0\n",
            "EmployeeCount               0\n",
            "EmployeeNumber              0\n",
            "EnvironmentSatisfaction     0\n",
            "Gender                      0\n",
            "HourlyRate                  0\n",
            "JobInvolvement              0\n",
            "JobLevel                    0\n",
            "JobRole                     0\n",
            "JobSatisfaction             0\n",
            "MaritalStatus               0\n",
            "MonthlyIncome               0\n",
            "MonthlyRate                 0\n",
            "NumCompaniesWorked          0\n",
            "OverTime                    0\n",
            "PercentSalaryHike           0\n",
            "PerformanceRating           0\n",
            "RelationshipSatisfaction    0\n",
            "StockOptionLevel            0\n",
            "TotalWorkingYears           0\n",
            "TrainingTimesLastYear       0\n",
            "WorkLifeBalance             0\n",
            "YearsAtCompany              0\n",
            "YearsInCurrentRole          0\n",
            "YearsSinceLastPromotion     0\n",
            "YearsWithCurrManager        0\n",
            "dtype: int64\n",
            "               Age    Attrition  ...  YearsSinceLastPromotion  YearsWithCurrManager\n",
            "count  1028.000000  1028.000000  ...              1028.000000           1028.000000\n",
            "mean     36.999027     0.167315  ...                 2.210117              4.141051\n",
            "std       9.444297     0.373439  ...                 3.288559              3.608460\n",
            "min      18.000000     0.000000  ...                 0.000000              0.000000\n",
            "25%      30.000000     0.000000  ...                 0.000000              2.000000\n",
            "50%      36.000000     0.000000  ...                 1.000000              3.000000\n",
            "75%      43.000000     0.000000  ...                 3.000000              7.000000\n",
            "max      60.000000     1.000000  ...                15.000000             17.000000\n",
            "\n",
            "[8 rows x 26 columns]\n"
          ],
          "name": "stdout"
        }
      ]
    },
    {
      "cell_type": "code",
      "metadata": {
        "id": "ttQPHvj2EcE6",
        "colab_type": "code",
        "colab": {}
      },
      "source": [
        "# Employee count is a rdundant column let's drop it as it just has a value 1\n",
        "df.EmployeeCount.unique()\n",
        "df = df.drop('EmployeeCount',axis=1)"
      ],
      "execution_count": 0,
      "outputs": []
    },
    {
      "cell_type": "code",
      "metadata": {
        "id": "SG1M01SZB_5e",
        "colab_type": "code",
        "outputId": "2c9adb5d-93b3-4d81-a287-e3b4d33888bc",
        "colab": {
          "base_uri": "https://localhost:8080/",
          "height": 999
        }
      },
      "source": [
        "# Find out the correlation matrix\n",
        "corr_df = df.corr()\n",
        "plt.figure(figsize=(15,15))\n",
        "# Creating mask\n",
        "mask = np.zeros_like(corr_df, dtype=np.bool)\n",
        "mask[np.triu_indices_from(mask)] = True\n",
        "# Draw the heatmap \n",
        "sns.heatmap(corr_df,vmin = -1, annot=False)"
      ],
      "execution_count": 5,
      "outputs": [
        {
          "output_type": "execute_result",
          "data": {
            "text/plain": [
              "<matplotlib.axes._subplots.AxesSubplot at 0x7fc046b23828>"
            ]
          },
          "metadata": {
            "tags": []
          },
          "execution_count": 5
        },
        {
          "output_type": "display_data",
          "data": {
            "image/png": "[encoded data removed]",
            "text/plain": [
              "<Figure size 1080x1080 with 2 Axes>"
            ]
          },
          "metadata": {
            "tags": [],
            "needs_background": "light"
          }
        }
      ]
    },
    {
      "cell_type": "markdown",
      "metadata": {
        "id": "bkLa9HjmFiQU",
        "colab_type": "text"
      },
      "source": [
        "There exist a strong and very strong linear relationship between monthly income and job level which could lead to multicollinearity"
      ]
    },
    {
      "cell_type": "code",
      "metadata": {
        "id": "EmFTjw1FCACu",
        "colab_type": "code",
        "colab": {}
      },
      "source": [
        "# Let's drop job level for that purpose\n",
        "df = df.drop('JobLevel',axis=1)"
      ],
      "execution_count": 0,
      "outputs": []
    },
    {
      "cell_type": "code",
      "metadata": {
        "id": "e7aRppjmCAKz",
        "colab_type": "code",
        "colab": {}
      },
      "source": [
        "# For one hot encoding the categorical variables\n",
        "def create_one_hot(df, column_name):\n",
        "    \"\"\"One-hot encode column values. Takes the df and column name as\n",
        "    input and return the df with one-hot encoded columns as output.\n",
        "    \"\"\"\n",
        "    df[column_name] = pd.Categorical(df[column_name])\n",
        "    one_hot = pd.get_dummies(df[column_name], prefix = column_name)\n",
        "    # add dummies to original df:\n",
        "    df = pd.concat([one_hot, df], axis = 1)\n",
        "    return df"
      ],
      "execution_count": 0,
      "outputs": []
    },
    {
      "cell_type": "code",
      "metadata": {
        "id": "tPMf6h-WCASJ",
        "colab_type": "code",
        "colab": {}
      },
      "source": [
        "# Getting the dummy vars to categorical data\n",
        "col = df.select_dtypes(['object']).columns\n",
        "for c in col:\n",
        "  df = create_one_hot(df,c)\n",
        "  df = df.drop(c,axis=1)"
      ],
      "execution_count": 0,
      "outputs": []
    },
    {
      "cell_type": "markdown",
      "metadata": {
        "id": "JxRY7RaKhdc_",
        "colab_type": "text"
      },
      "source": [
        "Since the dataset is highly imbalanced we need to balance the dataset with estimator variables"
      ]
    },
    {
      "cell_type": "code",
      "metadata": {
        "id": "Ioop3EHrfV7a",
        "colab_type": "code",
        "colab": {
          "base_uri": "https://localhost:8080/",
          "height": 68
        },
        "outputId": "30216815-4e2a-4dae-894a-2ff927374925"
      },
      "source": [
        "\n",
        "# Separate majority and minority classes\n",
        "data_ori_majority = df[df.Attrition==0]\n",
        "data_ori_minority = df[df.Attrition==1]\n",
        " \n",
        "# Downsample majority class\n",
        "from sklearn.utils import resample\n",
        "data_ori_majority_downsampled = resample(data_ori_majority, \n",
        "                                         replace=False,    # sample without replacement\n",
        "                                         n_samples=len(data_ori_minority),     # to match minority class\n",
        "                                         random_state=0) # reproducible results\n",
        " # Combine minority class with downsampled majority class\n",
        "data_ori_downsampled = pd.concat([data_ori_majority_downsampled, data_ori_minority])\n",
        "print(data_ori_downsampled['Attrition'].value_counts())"
      ],
      "execution_count": 9,
      "outputs": [
        {
          "output_type": "stream",
          "text": [
            "1    172\n",
            "0    172\n",
            "Name: Attrition, dtype: int64\n"
          ],
          "name": "stdout"
        }
      ]
    },
    {
      "cell_type": "code",
      "metadata": {
        "id": "PArniU6ETOrk",
        "colab_type": "code",
        "colab": {}
      },
      "source": [
        "from sklearn.model_selection import train_test_split\n",
        "from sklearn.ensemble import GradientBoostingClassifier\n",
        "from sklearn.ensemble import RandomForestClassifier\n",
        "from xgboost import XGBClassifier\n",
        "from sklearn.tree import DecisionTreeClassifier\n",
        "from sklearn.model_selection import GridSearchCV\n",
        "from sklearn.metrics import f1_score, precision_score, confusion_matrix, recall_score, accuracy_score\n",
        "\n",
        "class classification:\n",
        "  \n",
        "  def __init__(self, X, y):\n",
        "    \n",
        "    self.X_train, self.X_test, self.y_train, self.y_test = train_test_split(X, y, test_size=0.2, random_state=42)\n",
        "\n",
        "\n",
        "  def calc_metrics_class(self):\n",
        "\n",
        "    precision = precision_score(self.pred, self.y_test)\n",
        "    recall = recall_score(self.pred,self.y_test)\n",
        "    f1 = f1_score(self.pred,self.y_test)\n",
        "    accuracy = accuracy_score(self.pred,self.y_test)\n",
        "    print(\"precision\", precision, '\\n', \"recall\", recall, '\\n', \"f1\", f1, '\\n', \"accuracy\", accuracy)\n",
        "\n",
        "  def gradient_boost(self):\n",
        "\n",
        "      GradBoostClasCV = GradientBoostingClassifier(random_state=42)\n",
        "      model_params = {\n",
        "                        \"max_depth\": [30],\n",
        "                        \"subsample\": [ 0.9],\n",
        "                        \"n_estimators\":[300],\n",
        "                        \"learning_rate\": [0.03],\n",
        "                        \"criterion\": ['mae']\n",
        "                      }\n",
        "      grid_model = GridSearchCV(estimator=GradBoostClasCV, param_grid=model_params, cv=5, n_jobs=-1)\n",
        "      grid_model.fit(self.X_train,self.y_train)\n",
        "      print(\"Best parameters =\", grid_model.best_params_)\n",
        "      model_clf = GradBoostClasCV.set_params(**grid_model.best_params_)\n",
        "      model_clf.fit(self.X_train, self.y_train)\n",
        "      self.pred = model_clf.predict(self.X_test)\n",
        "      self.calc_metrics_class()\n",
        "\n",
        "  def random_forest(self):\n",
        "\n",
        "      rf_model = RandomForestClassifier(random_state=1)\n",
        "      param_grid = {\n",
        "                    'n_estimators': [350],\n",
        "                    'max_features': [0.9],\n",
        "                    'min_samples_split': [6]\n",
        "                    }\n",
        "      grid_model = GridSearchCV(estimator=rf_model, param_grid=param_grid, cv=5, n_jobs=-1)\n",
        "      grid_model.fit(self.X_train,self.y_train)\n",
        "      print(\"Best parameters =\", grid_model.best_params_)\n",
        "      model_clf = rf_model.set_params(**grid_model.best_params_)\n",
        "      model_clf.fit(self.X_train, self.y_train)\n",
        "      self.pred = model_clf.predict(self.X_test)\n",
        "      self.calc_metrics_class()\n",
        "\n",
        "  def decision_tree(self):\n",
        "\n",
        "      #create a dictionary of all values we want to test\n",
        "      param_grid = { 'criterion':['gini'],'max_depth': [20]}\n",
        "      # decision tree model\n",
        "      dtree_model=DecisionTreeClassifier()\n",
        "      #use gridsearch to test all values\n",
        "      grid_model = GridSearchCV(dtree_model, param_grid, cv=5, n_jobs=-1)\n",
        "      grid_model.fit(self.X_train,self.y_train)\n",
        "      print(\"Best parameters =\", grid_model.best_params_)\n",
        "      model_clf = dtree_model.set_params(**grid_model.best_params_)\n",
        "      model_clf.fit(self.X_train, self.y_train)\n",
        "      self.pred = model_clf.predict(self.X_test)\n",
        "      self.calc_metrics_class()"
      ],
      "execution_count": 0,
      "outputs": []
    },
    {
      "cell_type": "markdown",
      "metadata": {
        "id": "b39UAzxJiLxt",
        "colab_type": "text"
      },
      "source": [
        "Due to memory constraints using only one hyperparameter "
      ]
    },
    {
      "cell_type": "code",
      "metadata": {
        "id": "-1V-_oRzTO-V",
        "colab_type": "code",
        "outputId": "109d2808-6d64-43b0-bda4-02a613d0d3bc",
        "colab": {
          "base_uri": "https://localhost:8080/",
          "height": 272
        }
      },
      "source": [
        "X = data_ori_downsampled.drop('Attrition',axis=1)\n",
        "y = data_ori_downsampled['Attrition']\n",
        "p1 = classification(X,y)\n",
        "p1.random_forest()\n",
        "p1.gradient_boost()\n",
        "p1.decision_tree()"
      ],
      "execution_count": 11,
      "outputs": [
        {
          "output_type": "stream",
          "text": [
            "Best parameters = {'max_features': 0.9, 'min_samples_split': 6, 'n_estimators': 350}\n",
            "precision 0.6666666666666666 \n",
            " recall 0.6470588235294118 \n",
            " f1 0.6567164179104478 \n",
            " accuracy 0.6666666666666666\n",
            "Best parameters = {'criterion': 'mae', 'learning_rate': 0.03, 'max_depth': 30, 'n_estimators': 300, 'subsample': 0.9}\n",
            "precision 0.5757575757575758 \n",
            " recall 0.5757575757575758 \n",
            " f1 0.5757575757575758 \n",
            " accuracy 0.5942028985507246\n",
            "Best parameters = {'criterion': 'gini', 'max_depth': 20}\n",
            "precision 0.6060606060606061 \n",
            " recall 0.6451612903225806 \n",
            " f1 0.625 \n",
            " accuracy 0.6521739130434783\n"
          ],
          "name": "stdout"
        }
      ]
    },
    {
      "cell_type": "markdown",
      "metadata": {
        "id": "Z6Z7spcObKvd",
        "colab_type": "text"
      },
      "source": [
        "## Resources:\n",
        "\n",
        "* You might want to refer to the [lecture notebook](https://github.com/shala2020/shala2020.github.io/tree/master/Lecture_Materials/Google_Colab_Notebooks/MachineLearning/L1) for revising the concepts.\n",
        "* You can also refer to the pre-work material for the first lecture on ML.  "
      ]
    },
    {
      "cell_type": "code",
      "metadata": {
        "id": "2oSgLNN5TCXt",
        "colab_type": "code",
        "colab": {}
      },
      "source": [
        ""
      ],
      "execution_count": 0,
      "outputs": []
    }
  ]
}
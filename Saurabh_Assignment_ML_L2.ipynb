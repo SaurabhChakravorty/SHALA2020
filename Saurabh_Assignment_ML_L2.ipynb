{
  "nbformat": 4,
  "nbformat_minor": 0,
  "metadata": {
    "colab": {
      "name": "Saurabh_Assignment_ML_L2.ipynb",
      "provenance": [],
      "collapsed_sections": [],
      "toc_visible": true,
      "include_colab_link": true
    },
    "kernelspec": {
      "name": "python3",
      "display_name": "Python 3"
    }
  },
  "cells": [
    {
      "cell_type": "markdown",
      "metadata": {
        "id": "view-in-github",
        "colab_type": "text"
      },
      "source": [
        "<a href=\"https://colab.research.google.com/github/SaurabhChakravorty/SHALA2020/blob/master/Saurabh_Assignment_ML_L2.ipynb\" target=\"_parent\"><img src=\"https://colab.research.google.com/assets/colab-badge.svg\" alt=\"Open In Colab\"/></a>"
      ]
    },
    {
      "cell_type": "markdown",
      "metadata": {
        "id": "RNGCt-t9hq7H",
        "colab_type": "text"
      },
      "source": [
        "# Assignment 2: **Machine learning with tree based models** "
      ]
    },
    {
      "cell_type": "markdown",
      "metadata": {
        "id": "AlmhCLRrfoG4",
        "colab_type": "text"
      },
      "source": [
        "In this assignment, you will work on the **Titanic** dataset and use machine learning to create a model that predicts which passengers survived the **Titanic** shipwreck. "
      ]
    },
    {
      "cell_type": "markdown",
      "metadata": {
        "id": "ysVvT5atiUCf",
        "colab_type": "text"
      },
      "source": [
        "---\n",
        "## About the dataset:\n",
        "---\n",
        "* The column named  `Survived` is the label and the remaining columns are features. \n",
        "* The features can be described as given below:\n",
        "  <table>\n",
        "  <thead>\n",
        "    <tr>\n",
        "      <th>Variable</th>\n",
        "      <th>Definition </th>\n",
        "    </tr>\n",
        "  </thead>\n",
        "  <tbody>\n",
        "    <tr>\n",
        "      <td>pclass</td>\n",
        "      <td>Ticket class\t</td>\n",
        "    </tr>\n",
        "    <tr>\n",
        "      <td>SibSp</td>\n",
        "      <td>Number of siblings / spouses aboard the Titanic</td>\n",
        "    </tr>\n",
        "    <tr>\n",
        "      <td>Parch</td>\n",
        "      <td>Number of parents / children aboard the Titanic</td>\n",
        "    </tr>\n",
        "    <tr>\n",
        "      <td>Ticket</td>\n",
        "      <td>Ticket number</td>\n",
        "    </tr>\n",
        "    <tr>\n",
        "      <td>Embarked</td>\n",
        "      <td>Port of Embarkation: C = Cherbourg, Q = Queenstown, S = Southampton</td>\n",
        "    </tr>\n",
        "  </tbody>\n",
        "</table> \t"
      ]
    },
    {
      "cell_type": "markdown",
      "metadata": {
        "id": "2XYBBIcKkXtu",
        "colab_type": "text"
      },
      "source": [
        "---\n",
        "## Instructions\n",
        "---\n",
        "* Apply suitable data pre-processing techniques, if needed. \n",
        "* Implement a few classifiers to create your model and compare the performance metrics by plotting the curves like roc_auc, confusion matrix, etc. "
      ]
    },
    {
      "cell_type": "code",
      "metadata": {
        "id": "KE79bLl6iCx2",
        "colab_type": "code",
        "colab": {}
      },
      "source": [
        "import pandas as pd\n",
        "import numpy as np\n",
        "import matplotlib.pyplot as plt"
      ],
      "execution_count": 0,
      "outputs": []
    },
    {
      "cell_type": "code",
      "metadata": {
        "id": "KSA03BRXDipr",
        "colab_type": "code",
        "outputId": "9348fb57-f5fd-447d-aa42-1fd249be4568",
        "colab": {
          "base_uri": "https://localhost:8080/",
          "height": 54
        }
      },
      "source": [
        "# Load the file as a dataframe \n",
        "from google.colab import drive \n",
        "drive.mount('/content/drive')"
      ],
      "execution_count": 0,
      "outputs": [
        {
          "output_type": "stream",
          "text": [
            "Drive already mounted at /content/drive; to attempt to forcibly remount, call drive.mount(\"/content/drive\", force_remount=True).\n"
          ],
          "name": "stdout"
        }
      ]
    },
    {
      "cell_type": "code",
      "metadata": {
        "id": "eoqpA6qmZ_JT",
        "colab_type": "code",
        "outputId": "916f8b1c-6a13-4a43-ef5b-116575c394d5",
        "colab": {
          "base_uri": "https://localhost:8080/",
          "height": 255
        }
      },
      "source": [
        "titanic_data = pd.read_csv(\"/content/drive/My Drive/Colab Notebooks/titanic.csv\")\n",
        "df = titanic_data\n",
        "df.head()"
      ],
      "execution_count": 0,
      "outputs": [
        {
          "output_type": "execute_result",
          "data": {
            "text/html": [
              "<div>\n",
              "<style scoped>\n",
              "    .dataframe tbody tr th:only-of-type {\n",
              "        vertical-align: middle;\n",
              "    }\n",
              "\n",
              "    .dataframe tbody tr th {\n",
              "        vertical-align: top;\n",
              "    }\n",
              "\n",
              "    .dataframe thead th {\n",
              "        text-align: right;\n",
              "    }\n",
              "</style>\n",
              "<table border=\"1\" class=\"dataframe\">\n",
              "  <thead>\n",
              "    <tr style=\"text-align: right;\">\n",
              "      <th></th>\n",
              "      <th>PassengerId</th>\n",
              "      <th>Survived</th>\n",
              "      <th>Pclass</th>\n",
              "      <th>Name</th>\n",
              "      <th>Sex</th>\n",
              "      <th>Age</th>\n",
              "      <th>SibSp</th>\n",
              "      <th>Parch</th>\n",
              "      <th>Ticket</th>\n",
              "      <th>Fare</th>\n",
              "      <th>Cabin</th>\n",
              "      <th>Embarked</th>\n",
              "    </tr>\n",
              "  </thead>\n",
              "  <tbody>\n",
              "    <tr>\n",
              "      <th>0</th>\n",
              "      <td>1</td>\n",
              "      <td>0</td>\n",
              "      <td>3</td>\n",
              "      <td>Braund, Mr. Owen Harris</td>\n",
              "      <td>male</td>\n",
              "      <td>22.0</td>\n",
              "      <td>1</td>\n",
              "      <td>0</td>\n",
              "      <td>A/5 21171</td>\n",
              "      <td>7.2500</td>\n",
              "      <td>NaN</td>\n",
              "      <td>S</td>\n",
              "    </tr>\n",
              "    <tr>\n",
              "      <th>1</th>\n",
              "      <td>2</td>\n",
              "      <td>1</td>\n",
              "      <td>1</td>\n",
              "      <td>Cumings, Mrs. John Bradley (Florence Briggs Th...</td>\n",
              "      <td>female</td>\n",
              "      <td>38.0</td>\n",
              "      <td>1</td>\n",
              "      <td>0</td>\n",
              "      <td>PC 17599</td>\n",
              "      <td>71.2833</td>\n",
              "      <td>C85</td>\n",
              "      <td>C</td>\n",
              "    </tr>\n",
              "    <tr>\n",
              "      <th>2</th>\n",
              "      <td>3</td>\n",
              "      <td>1</td>\n",
              "      <td>3</td>\n",
              "      <td>Heikkinen, Miss. Laina</td>\n",
              "      <td>female</td>\n",
              "      <td>26.0</td>\n",
              "      <td>0</td>\n",
              "      <td>0</td>\n",
              "      <td>STON/O2. 3101282</td>\n",
              "      <td>7.9250</td>\n",
              "      <td>NaN</td>\n",
              "      <td>S</td>\n",
              "    </tr>\n",
              "    <tr>\n",
              "      <th>3</th>\n",
              "      <td>4</td>\n",
              "      <td>1</td>\n",
              "      <td>1</td>\n",
              "      <td>Futrelle, Mrs. Jacques Heath (Lily May Peel)</td>\n",
              "      <td>female</td>\n",
              "      <td>35.0</td>\n",
              "      <td>1</td>\n",
              "      <td>0</td>\n",
              "      <td>113803</td>\n",
              "      <td>53.1000</td>\n",
              "      <td>C123</td>\n",
              "      <td>S</td>\n",
              "    </tr>\n",
              "    <tr>\n",
              "      <th>4</th>\n",
              "      <td>5</td>\n",
              "      <td>0</td>\n",
              "      <td>3</td>\n",
              "      <td>Allen, Mr. William Henry</td>\n",
              "      <td>male</td>\n",
              "      <td>35.0</td>\n",
              "      <td>0</td>\n",
              "      <td>0</td>\n",
              "      <td>373450</td>\n",
              "      <td>8.0500</td>\n",
              "      <td>NaN</td>\n",
              "      <td>S</td>\n",
              "    </tr>\n",
              "  </tbody>\n",
              "</table>\n",
              "</div>"
            ],
            "text/plain": [
              "   PassengerId  Survived  Pclass  ...     Fare Cabin  Embarked\n",
              "0            1         0       3  ...   7.2500   NaN         S\n",
              "1            2         1       1  ...  71.2833   C85         C\n",
              "2            3         1       3  ...   7.9250   NaN         S\n",
              "3            4         1       1  ...  53.1000  C123         S\n",
              "4            5         0       3  ...   8.0500   NaN         S\n",
              "\n",
              "[5 rows x 12 columns]"
            ]
          },
          "metadata": {
            "tags": []
          },
          "execution_count": 3
        }
      ]
    },
    {
      "cell_type": "code",
      "metadata": {
        "id": "WzDpMsWdiJUs",
        "colab_type": "code",
        "outputId": "478e0bff-38ef-46b2-e3a5-cf487ff6e388",
        "colab": {
          "base_uri": "https://localhost:8080/",
          "height": 34
        }
      },
      "source": [
        "titanic_data.shape"
      ],
      "execution_count": 0,
      "outputs": [
        {
          "output_type": "execute_result",
          "data": {
            "text/plain": [
              "(891, 12)"
            ]
          },
          "metadata": {
            "tags": []
          },
          "execution_count": 4
        }
      ]
    },
    {
      "cell_type": "code",
      "metadata": {
        "id": "PsDAl89fk56N",
        "colab_type": "code",
        "outputId": "aa1c58bb-a87d-42c3-a024-b753a98ac328",
        "colab": {
          "base_uri": "https://localhost:8080/",
          "height": 238
        }
      },
      "source": [
        "print(titanic_data.isna().sum())"
      ],
      "execution_count": 0,
      "outputs": [
        {
          "output_type": "stream",
          "text": [
            "PassengerId      0\n",
            "Survived         0\n",
            "Pclass           0\n",
            "Name             0\n",
            "Sex              0\n",
            "Age            177\n",
            "SibSp            0\n",
            "Parch            0\n",
            "Ticket           0\n",
            "Fare             0\n",
            "Cabin          687\n",
            "Embarked         2\n",
            "dtype: int64\n"
          ],
          "name": "stdout"
        }
      ]
    },
    {
      "cell_type": "markdown",
      "metadata": {
        "id": "8EU9v8LW43AE",
        "colab_type": "text"
      },
      "source": [
        "# Let's clean the dataset"
      ]
    },
    {
      "cell_type": "code",
      "metadata": {
        "id": "50WwqHPqEDYS",
        "colab_type": "code",
        "colab": {}
      },
      "source": [
        "df = df.drop(['PassengerId','Name','Ticket','Cabin'],axis=1)"
      ],
      "execution_count": 0,
      "outputs": []
    },
    {
      "cell_type": "markdown",
      "metadata": {
        "id": "EJUIrvk24UMz",
        "colab_type": "text"
      },
      "source": [
        "Let's check the distribution of this column to replace with na values"
      ]
    },
    {
      "cell_type": "code",
      "metadata": {
        "id": "YjW8A4ZnEd0k",
        "colab_type": "code",
        "outputId": "5be793e9-b4bd-41f9-85e7-3f25797c86b0",
        "colab": {
          "base_uri": "https://localhost:8080/",
          "height": 421
        }
      },
      "source": [
        "plt.hist(df.Age)"
      ],
      "execution_count": 0,
      "outputs": [
        {
          "output_type": "stream",
          "text": [
            "/usr/local/lib/python3.6/dist-packages/numpy/lib/histograms.py:839: RuntimeWarning: invalid value encountered in greater_equal\n",
            "  keep = (tmp_a >= first_edge)\n",
            "/usr/local/lib/python3.6/dist-packages/numpy/lib/histograms.py:840: RuntimeWarning: invalid value encountered in less_equal\n",
            "  keep &= (tmp_a <= last_edge)\n"
          ],
          "name": "stderr"
        },
        {
          "output_type": "execute_result",
          "data": {
            "text/plain": [
              "(array([ 54.,  46., 177., 169., 118.,  70.,  45.,  24.,   9.,   2.]),\n",
              " array([ 0.42 ,  8.378, 16.336, 24.294, 32.252, 40.21 , 48.168, 56.126,\n",
              "        64.084, 72.042, 80.   ]),\n",
              " <a list of 10 Patch objects>)"
            ]
          },
          "metadata": {
            "tags": []
          },
          "execution_count": 7
        },
        {
          "output_type": "display_data",
          "data": {
            "image/png": "[encoded data removed]",
            "text/plain": [
              "<Figure size 432x288 with 1 Axes>"
            ]
          },
          "metadata": {
            "tags": [],
            "needs_background": "light"
          }
        }
      ]
    },
    {
      "cell_type": "code",
      "metadata": {
        "id": "2KYRIGIDEpDu",
        "colab_type": "code",
        "outputId": "09310771-d554-4e2b-93fd-2c691456d290",
        "colab": {
          "base_uri": "https://localhost:8080/",
          "height": 170
        }
      },
      "source": [
        "df['Age'].fillna(df['Age'].mean(), inplace=True)\n",
        "df['Embarked'].fillna(df['Embarked'].mode()[0], inplace=True)\n",
        "print(df.isna().sum())"
      ],
      "execution_count": 0,
      "outputs": [
        {
          "output_type": "stream",
          "text": [
            "Survived    0\n",
            "Pclass      0\n",
            "Sex         0\n",
            "Age         0\n",
            "SibSp       0\n",
            "Parch       0\n",
            "Fare        0\n",
            "Embarked    0\n",
            "dtype: int64\n"
          ],
          "name": "stdout"
        }
      ]
    },
    {
      "cell_type": "markdown",
      "metadata": {
        "id": "_6f51mRN4r_r",
        "colab_type": "text"
      },
      "source": [
        "# 'Applying ML models' one by one"
      ]
    },
    {
      "cell_type": "code",
      "metadata": {
        "id": "YaSonRDfF0vU",
        "colab_type": "code",
        "colab": {}
      },
      "source": [
        "def create_one_hot(df, column_name):\n",
        "    \"\"\"One-hot encode column values. Takes the df and column name as\n",
        "    input and return the df with one-hot encoded columns as output.\n",
        "    \"\"\"\n",
        "    df[column_name] = pd.Categorical(df[column_name])\n",
        "    one_hot = pd.get_dummies(df[column_name], prefix = column_name, drop_first=True)\n",
        "    # add dummies to original df:\n",
        "    df = df.drop(column_name,axis=1)\n",
        "    df = pd.concat([one_hot, df], axis = 1)\n",
        "    return df\n",
        "\n",
        "df = create_one_hot(df, 'Embarked')\n",
        "df = create_one_hot(df, 'Sex')"
      ],
      "execution_count": 0,
      "outputs": []
    },
    {
      "cell_type": "code",
      "metadata": {
        "id": "oU2q5AItGAp4",
        "colab_type": "code",
        "colab": {}
      },
      "source": [
        "from sklearn.model_selection import train_test_split\n",
        "from sklearn.ensemble import GradientBoostingClassifier\n",
        "from sklearn.ensemble import RandomForestClassifier\n",
        "from xgboost import XGBClassifier\n",
        "from sklearn.tree import DecisionTreeClassifier\n",
        "from sklearn.model_selection import GridSearchCV\n",
        "from sklearn.metrics import f1_score, precision_score, confusion_matrix, recall_score, accuracy_score,roc_auc_score,confusion_matrix\n",
        "\n",
        "class classification:\n",
        "  \n",
        "  def __init__(self, X, y):\n",
        "    \n",
        "    self.X_train, self.X_test, self.y_train, self.y_test = train_test_split(X, y, test_size=0.2, random_state=42)\n",
        "    self.labels = np.unique(y).tolist()\n",
        "\n",
        "  def confusion_matrix(self):\n",
        "\n",
        "    cm = confusion_matrix(self.y_test, self.pred, self.labels)\n",
        "    print(\" The confusion matrix is :\", '\\n' , cm)\n",
        "    fig = plt.figure()\n",
        "    ax = fig.add_subplot(111)\n",
        "    cax = ax.matshow(cm)\n",
        "    plt.title('Confusion matrix of the classifier')\n",
        "    fig.colorbar(cax)\n",
        "    ax.set_xticklabels([''] + self.labels)\n",
        "    ax.set_yticklabels([''] + self.labels)\n",
        "    plt.xlabel('Predicted')\n",
        "    plt.ylabel('True')\n",
        "    plt.show()\n",
        "\n",
        "\n",
        "  def calc_metrics_class(self):\n",
        "\n",
        "    precision = precision_score(self.pred, self.y_test)\n",
        "    recall = recall_score(self.pred,self.y_test)\n",
        "    f1 = f1_score(self.pred,self.y_test)\n",
        "    accuracy = accuracy_score(self.pred,self.y_test)\n",
        "    roc = roc_auc_score(self.y_test, self.pred)\n",
        "    print(\"The precision for the model is :\", precision, '\\n', \"The recall for the model is : \", recall, '\\n', \"The f1 score of the model is :\", f1, '\\n', \n",
        "          \"The accuracy of the model is : \", accuracy, '\\n', \"The ROC curve of the model is : \", roc )\n",
        "\n",
        "  def gradient_boost(self):\n",
        "      print(\"Performing modelling for Gradient boost\")\n",
        "      GradBoostClasCV = GradientBoostingClassifier(random_state=42)\n",
        "      model_params = {\n",
        "                        \"max_depth\": [20],\n",
        "                        \"subsample\": [ 0.5],\n",
        "                        \"n_estimators\":[150],\n",
        "                        \"learning_rate\": [0.01],\n",
        "                        \"criterion\": ['mae']\n",
        "                      }\n",
        "      grid_model = GridSearchCV(estimator=GradBoostClasCV, param_grid=model_params, cv=5, n_jobs=-1)\n",
        "      grid_model.fit(self.X_train,self.y_train)\n",
        "      print(\"Best parameters =\", grid_model.best_params_)\n",
        "      model_clf = GradBoostClasCV.set_params(**grid_model.best_params_)\n",
        "      model_clf.fit(self.X_train, self.y_train)\n",
        "      self.pred = model_clf.predict(self.X_test)\n",
        "      self.calc_metrics_class()\n",
        "      self.confusion_matrix()\n",
        "\n",
        "  def random_forest(self):\n",
        "      print(\"Performing modelling for Random forest\")\n",
        "      rf_model = RandomForestClassifier(random_state=1)\n",
        "      param_grid = {\n",
        "                    'n_estimators': [150],\n",
        "                    'max_features': ['auto'],\n",
        "                    'min_samples_split': [2]\n",
        "                    }\n",
        "      grid_model = GridSearchCV(estimator=rf_model, param_grid=param_grid, cv = 3, verbose=2, n_jobs=-1)\n",
        "      grid_model.fit(self.X_train,self.y_train)\n",
        "      print(\"Best parameters =\", grid_model.best_params_)\n",
        "      model_clf = rf_model.set_params(**grid_model.best_params_)\n",
        "      model_clf.fit(self.X_train, self.y_train)\n",
        "      self.pred = model_clf.predict(self.X_test)\n",
        "      self.calc_metrics_class()\n",
        "      self.confusion_matrix()\n",
        "\n",
        "  def decision_tree(self):\n",
        "      print(\"Performing modelling for decision tree\")\n",
        "      #create a dictionary of all values we want to test\n",
        "      param_grid = { 'criterion':['gini'],'max_depth': [10]}\n",
        "      # decision tree model\n",
        "      dtree_model=DecisionTreeClassifier()\n",
        "      #use gridsearch to test all values\n",
        "      grid_model = GridSearchCV(dtree_model, param_grid, cv=5, n_jobs=-1)\n",
        "      grid_model.fit(self.X_train,self.y_train)\n",
        "      print(\"Best parameters =\", grid_model.best_params_)\n",
        "      model_clf = dtree_model.set_params(**grid_model.best_params_)\n",
        "      model_clf.fit(self.X_train, self.y_train)\n",
        "      self.pred = model_clf.predict(self.X_test)\n",
        "      self.calc_metrics_class()\n",
        "      self.confusion_matrix()"
      ],
      "execution_count": 0,
      "outputs": []
    },
    {
      "cell_type": "markdown",
      "metadata": {
        "id": "kmBREJAR4x7i",
        "colab_type": "text"
      },
      "source": [
        " Applied models and got accuracy one by one"
      ]
    },
    {
      "cell_type": "code",
      "metadata": {
        "id": "KJ_UbPj6GyAJ",
        "colab_type": "code",
        "outputId": "be91b055-75ee-492d-8c68-6e6feb48e166",
        "colab": {
          "base_uri": "https://localhost:8080/",
          "height": 1000
        }
      },
      "source": [
        "X = df.drop('Survived',axis=1)\n",
        "y = df['Survived']\n",
        "p1 = classification(X,y)\n",
        "p1.random_forest()\n",
        "p1.gradient_boost()\n",
        "p1.decision_tree()"
      ],
      "execution_count": 17,
      "outputs": [
        {
          "output_type": "stream",
          "text": [
            "Performing modelling for Random forest\n",
            "Fitting 3 folds for each of 1 candidates, totalling 3 fits\n"
          ],
          "name": "stdout"
        },
        {
          "output_type": "stream",
          "text": [
            "[Parallel(n_jobs=-1)]: Using backend LokyBackend with 2 concurrent workers.\n",
            "[Parallel(n_jobs=-1)]: Done   3 out of   3 | elapsed:    1.7s finished\n"
          ],
          "name": "stderr"
        },
        {
          "output_type": "stream",
          "text": [
            "Best parameters = {'max_features': 'auto', 'min_samples_split': 2, 'n_estimators': 150}\n",
            "The precision for the model is : 0.7567567567567568 \n",
            " The recall for the model is :  0.8 \n",
            " The f1 score of the model is : 0.7777777777777778 \n",
            " The accuracy of the model is :  0.8212290502793296 \n",
            " The ROC curve of the model is :  0.8117117117117117\n",
            " The confusion matrix is : \n",
            " [[91 14]\n",
            " [18 56]]\n"
          ],
          "name": "stdout"
        },
        {
          "output_type": "display_data",
          "data": {
            "image/png": "[encoded data removed]",
            "text/plain": [
              "<Figure size 432x288 with 2 Axes>"
            ]
          },
          "metadata": {
            "tags": [],
            "needs_background": "light"
          }
        },
        {
          "output_type": "stream",
          "text": [
            "Performing modelling for Gradient boost\n",
            "Best parameters = {'criterion': 'mae', 'learning_rate': 0.01, 'max_depth': 20, 'n_estimators': 150, 'subsample': 0.5}\n",
            "The precision for the model is : 0.7162162162162162 \n",
            " The recall for the model is :  0.8153846153846154 \n",
            " The f1 score of the model is : 0.762589928057554 \n",
            " The accuracy of the model is :  0.8156424581005587 \n",
            " The ROC curve of the model is :  0.800965250965251\n",
            " The confusion matrix is : \n",
            " [[93 12]\n",
            " [21 53]]\n"
          ],
          "name": "stdout"
        },
        {
          "output_type": "display_data",
          "data": {
            "image/png": "[encoded data removed]",
            "text/plain": [
              "<Figure size 432x288 with 2 Axes>"
            ]
          },
          "metadata": {
            "tags": [],
            "needs_background": "light"
          }
        },
        {
          "output_type": "stream",
          "text": [
            "Performing modelling for decision tree\n",
            "Best parameters = {'criterion': 'gini', 'max_depth': 10}\n",
            "The precision for the model is : 0.6621621621621622 \n",
            " The recall for the model is :  0.7903225806451613 \n",
            " The f1 score of the model is : 0.7205882352941176 \n",
            " The accuracy of the model is :  0.7877094972067039 \n",
            " The ROC curve of the model is :  0.7691763191763192\n",
            " The confusion matrix is : \n",
            " [[92 13]\n",
            " [25 49]]\n"
          ],
          "name": "stdout"
        },
        {
          "output_type": "display_data",
          "data": {
            "image/png": "[encoded data removed]",
            "text/plain": [
              "<Figure size 432x288 with 2 Axes>"
            ]
          },
          "metadata": {
            "tags": [],
            "needs_background": "light"
          }
        }
      ]
    },
    {
      "cell_type": "code",
      "metadata": {
        "id": "9vI3yk07-khl",
        "colab_type": "code",
        "colab": {}
      },
      "source": [
        ""
      ],
      "execution_count": 0,
      "outputs": []
    }
  ]
}